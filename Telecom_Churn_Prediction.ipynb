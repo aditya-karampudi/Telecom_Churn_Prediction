{
 "cells": [
  {
   "cell_type": "markdown",
   "metadata": {},
   "source": [
    "## <font color='green'>Churn prediction for Telecom</font>\n",
    "\n",
    "github link: https://github.com/aditya-karampudi/churn_prediction"
   ]
  },
  {
   "cell_type": "markdown",
   "metadata": {},
   "source": [
    "### <font color='blue'>Main tasks</font>\n",
    "1. Exploratory data analysis using visualizations in Jupyter notebook.\n",
    "2. Built a model that predicts whether a customer churns or not from the company."
   ]
  },
  {
   "cell_type": "markdown",
   "metadata": {},
   "source": [
    "### Problem Description\n",
    "To predict the telecom customers who are likely to exit the contract and also to generate patterns of Churn and non-churn to assist the management to take appropriate decisions to limit churn."
   ]
  },
  {
   "cell_type": "markdown",
   "metadata": {},
   "source": [
    "### Data\n",
    "The datasets are provided as cited below for the analysis:\n",
    "\n",
    "**Demographics Data:** “Train_Demographics.csv” & “Test_Demographics.csv” These files consist of the demographic data of each customer, like HouseholdID, Country, State, Education, Gender etc.\n",
    "\n",
    "**Account Information:** “Train_AccountInfo.csv” & “Test_AccountInfo.csv” These files consist of the customer account information with the telecom company, like CustomerID, DOE, Contract Type, Paymentmethod etc.\n",
    "\n",
    "**Data of ServicesOptedFor:** “Train_ServicesOptedFor.csv” & “Test_ServicesOptedFor.csv” These files consist of the details about the services the customers signed for.\n",
    "\n",
    "**Churn Data:** “Train.csv” & “Test.csv” This “Train.csv” table contains the Customer churn details - CustomerID, Churn. This “Test.csv” contains only CustomerID (Not target attribute, which is to be predicted) 5. Attributes Details: “AttributeInformation.docx” This has the details of attributes for the datasets cited above (1 to 4)"
   ]
  },
  {
   "cell_type": "markdown",
   "metadata": {},
   "source": [
    "## Approach:\n",
    "    1. Data Import\n",
    "    2. Data Wrangling\n",
    "    3. Feature Generation\n",
    "    4. Visualization\n",
    "    5. Missing value imputation\n",
    "    6. Model and Evaluation "
   ]
  },
  {
   "cell_type": "code",
   "execution_count": 1,
   "metadata": {},
   "outputs": [],
   "source": [
    "#Importing necessary libraries\n",
    "import matplotlib.pyplot as plt\n",
    "from sklearn import metrics\n",
    "import pandas as pd\n",
    "import seaborn as sns\n",
    "import matplotlib\n",
    "matplotlib.get_backend()\n",
    "%matplotlib inline\n",
    "import warnings\n",
    "warnings.filterwarnings('ignore')"
   ]
  },
  {
   "cell_type": "code",
   "execution_count": 2,
   "metadata": {
    "scrolled": true
   },
   "outputs": [
    {
     "name": "stdout",
     "output_type": "stream",
     "text": [
      "(5298, 2)\n"
     ]
    },
    {
     "data": {
      "text/html": [
       "<div>\n",
       "<style scoped>\n",
       "    .dataframe tbody tr th:only-of-type {\n",
       "        vertical-align: middle;\n",
       "    }\n",
       "\n",
       "    .dataframe tbody tr th {\n",
       "        vertical-align: top;\n",
       "    }\n",
       "\n",
       "    .dataframe thead th {\n",
       "        text-align: right;\n",
       "    }\n",
       "</style>\n",
       "<table border=\"1\" class=\"dataframe\">\n",
       "  <thead>\n",
       "    <tr style=\"text-align: right;\">\n",
       "      <th></th>\n",
       "      <th>CustomerID</th>\n",
       "      <th>Churn</th>\n",
       "    </tr>\n",
       "  </thead>\n",
       "  <tbody>\n",
       "    <tr>\n",
       "      <th>0</th>\n",
       "      <td>Cust4327</td>\n",
       "      <td>Yes</td>\n",
       "    </tr>\n",
       "    <tr>\n",
       "      <th>1</th>\n",
       "      <td>Cust3826</td>\n",
       "      <td>No</td>\n",
       "    </tr>\n",
       "    <tr>\n",
       "      <th>2</th>\n",
       "      <td>Cust6200</td>\n",
       "      <td>No</td>\n",
       "    </tr>\n",
       "    <tr>\n",
       "      <th>3</th>\n",
       "      <td>Cust1467</td>\n",
       "      <td>No</td>\n",
       "    </tr>\n",
       "    <tr>\n",
       "      <th>4</th>\n",
       "      <td>Cust4843</td>\n",
       "      <td>No</td>\n",
       "    </tr>\n",
       "  </tbody>\n",
       "</table>\n",
       "</div>"
      ],
      "text/plain": [
       "  CustomerID Churn\n",
       "0   Cust4327   Yes\n",
       "1   Cust3826    No\n",
       "2   Cust6200    No\n",
       "3   Cust1467    No\n",
       "4   Cust4843    No"
      ]
     },
     "execution_count": 2,
     "metadata": {},
     "output_type": "execute_result"
    }
   ],
   "source": [
    "#Importing the data and saving it in different libraries\n",
    "train = pd.read_csv(\"data/Train.csv\")\n",
    "Train_AccountInfo = pd.read_csv(\"data/Train_AccountInfo.csv\")\n",
    "Train_Demographics = pd.read_csv(\"data/Train_Demographics.csv\")\n",
    "Train_ServicesOptedFor = pd.read_csv(\"data/Train_ServicesOptedFor.csv\")\n",
    "print(train.shape)\n",
    "train.head()"
   ]
  },
  {
   "cell_type": "markdown",
   "metadata": {},
   "source": [
    "### Plot of distribution of Y - churn or no churn"
   ]
  },
  {
   "cell_type": "code",
   "execution_count": 124,
   "metadata": {
    "scrolled": true
   },
   "outputs": [
    {
     "data": {
      "text/plain": [
       "<matplotlib.axes._subplots.AxesSubplot at 0x137986b97f0>"
      ]
     },
     "execution_count": 124,
     "metadata": {},
     "output_type": "execute_result"
    },
    {
     "data": {
      "image/png": "[encoded data removed]",
      "text/plain": [
       "<Figure size 432x288 with 1 Axes>"
      ]
     },
     "metadata": {
      "needs_background": "light"
     },
     "output_type": "display_data"
    }
   ],
   "source": [
    "sns.countplot(x=\"Churn\", data=train)\n",
    "#the data is highly imbalanced.."
   ]
  },
  {
   "cell_type": "code",
   "execution_count": 125,
   "metadata": {},
   "outputs": [
    {
     "name": "stdout",
     "output_type": "stream",
     "text": [
      "(5298, 8)\n"
     ]
    },
    {
     "data": {
      "text/html": [
       "<div>\n",
       "<style scoped>\n",
       "    .dataframe tbody tr th:only-of-type {\n",
       "        vertical-align: middle;\n",
       "    }\n",
       "\n",
       "    .dataframe tbody tr th {\n",
       "        vertical-align: top;\n",
       "    }\n",
       "\n",
       "    .dataframe thead th {\n",
       "        text-align: right;\n",
       "    }\n",
       "</style>\n",
       "<table border=\"1\" class=\"dataframe\">\n",
       "  <thead>\n",
       "    <tr style=\"text-align: right;\">\n",
       "      <th></th>\n",
       "      <th>CustomerID</th>\n",
       "      <th>BaseCharges</th>\n",
       "      <th>DOC</th>\n",
       "      <th>TotalCharges</th>\n",
       "      <th>DOE</th>\n",
       "      <th>ElectronicBilling</th>\n",
       "      <th>ContractType</th>\n",
       "      <th>PaymentMethod</th>\n",
       "    </tr>\n",
       "  </thead>\n",
       "  <tbody>\n",
       "    <tr>\n",
       "      <td>0</td>\n",
       "      <td>Cust1450</td>\n",
       "      <td>417.75</td>\n",
       "      <td>5-1-2012</td>\n",
       "      <td>3400.25</td>\n",
       "      <td>10-May-11</td>\n",
       "      <td>Yes</td>\n",
       "      <td>Month-to-month</td>\n",
       "      <td>Electronic check</td>\n",
       "    </tr>\n",
       "    <tr>\n",
       "      <td>1</td>\n",
       "      <td>Cust4452</td>\n",
       "      <td>500.00</td>\n",
       "      <td>5-1-2012</td>\n",
       "      <td>7673.75</td>\n",
       "      <td>12-Sep-10</td>\n",
       "      <td>Yes</td>\n",
       "      <td>Month-to-month</td>\n",
       "      <td>Electronic check</td>\n",
       "    </tr>\n",
       "  </tbody>\n",
       "</table>\n",
       "</div>"
      ],
      "text/plain": [
       "  CustomerID  BaseCharges       DOC TotalCharges        DOE ElectronicBilling  \\\n",
       "0   Cust1450       417.75  5-1-2012      3400.25  10-May-11               Yes   \n",
       "1   Cust4452       500.00  5-1-2012      7673.75  12-Sep-10               Yes   \n",
       "\n",
       "     ContractType     PaymentMethod  \n",
       "0  Month-to-month  Electronic check  \n",
       "1  Month-to-month  Electronic check  "
      ]
     },
     "execution_count": 125,
     "metadata": {},
     "output_type": "execute_result"
    }
   ],
   "source": [
    "#looking at the data of another file\n",
    "print(Train_AccountInfo.shape)\n",
    "Train_AccountInfo.head(2)"
   ]
  },
  {
   "cell_type": "markdown",
   "metadata": {},
   "source": [
    "### <font color='green'>Merging different dataframes based on the ID of customer</font>"
   ]
  },
  {
   "cell_type": "code",
   "execution_count": 126,
   "metadata": {},
   "outputs": [
    {
     "data": {
      "text/html": [
       "<div>\n",
       "<style scoped>\n",
       "    .dataframe tbody tr th:only-of-type {\n",
       "        vertical-align: middle;\n",
       "    }\n",
       "\n",
       "    .dataframe tbody tr th {\n",
       "        vertical-align: top;\n",
       "    }\n",
       "\n",
       "    .dataframe thead th {\n",
       "        text-align: right;\n",
       "    }\n",
       "</style>\n",
       "<table border=\"1\" class=\"dataframe\">\n",
       "  <thead>\n",
       "    <tr style=\"text-align: right;\">\n",
       "      <th></th>\n",
       "      <th>CustomerID</th>\n",
       "      <th>Country</th>\n",
       "      <th>State</th>\n",
       "      <th>Retired</th>\n",
       "      <th>HasPartner</th>\n",
       "      <th>HasDependents</th>\n",
       "      <th>Education</th>\n",
       "      <th>Gender</th>\n",
       "      <th>BaseCharges</th>\n",
       "      <th>DOC</th>\n",
       "      <th>TotalCharges</th>\n",
       "      <th>DOE</th>\n",
       "      <th>ElectronicBilling</th>\n",
       "      <th>ContractType</th>\n",
       "      <th>PaymentMethod</th>\n",
       "      <th>Churn</th>\n",
       "    </tr>\n",
       "  </thead>\n",
       "  <tbody>\n",
       "    <tr>\n",
       "      <td>0</td>\n",
       "      <td>Cust5390</td>\n",
       "      <td>India</td>\n",
       "      <td>Maharashtra</td>\n",
       "      <td>0</td>\n",
       "      <td>2</td>\n",
       "      <td>2</td>\n",
       "      <td>Graduation</td>\n",
       "      <td>Female</td>\n",
       "      <td>106.0</td>\n",
       "      <td>5-1-2012</td>\n",
       "      <td>1113.25</td>\n",
       "      <td>11-Mar-11</td>\n",
       "      <td>Yes</td>\n",
       "      <td>Month-to-month</td>\n",
       "      <td>Electronic check</td>\n",
       "      <td>No</td>\n",
       "    </tr>\n",
       "  </tbody>\n",
       "</table>\n",
       "</div>"
      ],
      "text/plain": [
       "  CustomerID Country        State  Retired  HasPartner  HasDependents  \\\n",
       "0   Cust5390   India  Maharashtra        0           2              2   \n",
       "\n",
       "    Education  Gender  BaseCharges       DOC TotalCharges        DOE  \\\n",
       "0  Graduation  Female        106.0  5-1-2012      1113.25  11-Mar-11   \n",
       "\n",
       "  ElectronicBilling    ContractType     PaymentMethod Churn  \n",
       "0               Yes  Month-to-month  Electronic check    No  "
      ]
     },
     "execution_count": 126,
     "metadata": {},
     "output_type": "execute_result"
    }
   ],
   "source": [
    "#Merging two dataframes with customerid attribute\n",
    "train_train_account= pd.merge(Train_AccountInfo,train,on=\"CustomerID\")\n",
    "train_train_account[train_train_account.CustomerID == \"Cust1450\"] #checking the merged dataframe\n",
    "#renaming a column to match\n",
    "Train_Demographics = Train_Demographics.rename(columns={ \"HouseholdID\" : \"CustomerID\"})\n",
    "#Train_Demographics['HouseholdID'] = \"CustomerID\"\n",
    "train_account_demo = pd.merge(Train_Demographics,train_train_account, on=\"CustomerID\")\n",
    "train_account_demo.head(1)"
   ]
  },
  {
   "cell_type": "code",
   "execution_count": 127,
   "metadata": {},
   "outputs": [
    {
     "data": {
      "text/plain": [
       "No                     17410\n",
       "Yes                    13390\n",
       "No internet service     6936\n",
       "1                       4792\n",
       "Fiber optic             2313\n",
       "DSL                     1829\n",
       "No phone service         506\n",
       "0                        506\n",
       "Name: SeviceDetails, dtype: int64"
      ]
     },
     "execution_count": 127,
     "metadata": {},
     "output_type": "execute_result"
    }
   ],
   "source": [
    "#This is the distribution of the services opted by all of the users.\n",
    "Train_ServicesOptedFor.SeviceDetails.value_counts()"
   ]
  },
  {
   "cell_type": "markdown",
   "metadata": {},
   "source": [
    "_**The services opted by different users is different lets replace the values where the customer did not subscribe with NO\n",
    "and replace values where the customer subscribed with YES**_"
   ]
  },
  {
   "cell_type": "code",
   "execution_count": 128,
   "metadata": {
    "scrolled": true
   },
   "outputs": [],
   "source": [
    "Train_ServicesOptedFor.SeviceDetails[Train_ServicesOptedFor.SeviceDetails == \"1\"] = \"Yes\"\n",
    "Train_ServicesOptedFor.SeviceDetails[Train_ServicesOptedFor.SeviceDetails == \"No internet service\"] = \"No\"\n",
    "Train_ServicesOptedFor.SeviceDetails[Train_ServicesOptedFor.SeviceDetails == \"0\"] = \"No\"\n",
    "Train_ServicesOptedFor.SeviceDetails[Train_ServicesOptedFor.SeviceDetails == \"Fiber optic\"] = \"Yes\"\n",
    "Train_ServicesOptedFor.SeviceDetails[Train_ServicesOptedFor.SeviceDetails == \"DSL\"] = \"Yes\"\n",
    "Train_ServicesOptedFor.SeviceDetails[Train_ServicesOptedFor.SeviceDetails == \"No phone service\"] = \"No\""
   ]
  },
  {
   "cell_type": "markdown",
   "metadata": {},
   "source": [
    "##### By removing the records that have NO, we will have the services that each customer has chosen. Now lets dummify those services "
   ]
  },
  {
   "cell_type": "code",
   "execution_count": 129,
   "metadata": {},
   "outputs": [],
   "source": [
    "yes_train_service = Train_ServicesOptedFor[Train_ServicesOptedFor.SeviceDetails != 'No']\n",
    "yes_train_service = yes_train_service.sort_values(by=['TypeOfService'], ascending=['True'])\n",
    "ff = pd.get_dummies(yes_train_service, prefix=['TypeOfService'],\n",
    "               columns=['TypeOfService'])"
   ]
  },
  {
   "cell_type": "markdown",
   "metadata": {},
   "source": [
    "##### we have multiple records with same customer id as a customer might be subscribed to many services. Hence adding the multiple rows to single rows"
   ]
  },
  {
   "cell_type": "code",
   "execution_count": 130,
   "metadata": {},
   "outputs": [
    {
     "data": {
      "text/html": [
       "<div>\n",
       "<style scoped>\n",
       "    .dataframe tbody tr th:only-of-type {\n",
       "        vertical-align: middle;\n",
       "    }\n",
       "\n",
       "    .dataframe tbody tr th {\n",
       "        vertical-align: top;\n",
       "    }\n",
       "\n",
       "    .dataframe thead th {\n",
       "        text-align: right;\n",
       "    }\n",
       "</style>\n",
       "<table border=\"1\" class=\"dataframe\">\n",
       "  <thead>\n",
       "    <tr style=\"text-align: right;\">\n",
       "      <th></th>\n",
       "      <th>CustomerID</th>\n",
       "      <th>TypeOfService</th>\n",
       "      <th>SeviceDetails</th>\n",
       "    </tr>\n",
       "  </thead>\n",
       "  <tbody>\n",
       "    <tr>\n",
       "      <td>11101</td>\n",
       "      <td>Cust1255</td>\n",
       "      <td>OnlineSecurity</td>\n",
       "      <td>No</td>\n",
       "    </tr>\n",
       "    <tr>\n",
       "      <td>12988</td>\n",
       "      <td>Cust1255</td>\n",
       "      <td>StreamingMovies</td>\n",
       "      <td>Yes</td>\n",
       "    </tr>\n",
       "    <tr>\n",
       "      <td>27062</td>\n",
       "      <td>Cust1255</td>\n",
       "      <td>InternetServiceCategory</td>\n",
       "      <td>Yes</td>\n",
       "    </tr>\n",
       "    <tr>\n",
       "      <td>31521</td>\n",
       "      <td>Cust1255</td>\n",
       "      <td>StreamingTelevision</td>\n",
       "      <td>Yes</td>\n",
       "    </tr>\n",
       "    <tr>\n",
       "      <td>32944</td>\n",
       "      <td>Cust1255</td>\n",
       "      <td>TechnicalSupport</td>\n",
       "      <td>No</td>\n",
       "    </tr>\n",
       "    <tr>\n",
       "      <td>39891</td>\n",
       "      <td>Cust1255</td>\n",
       "      <td>OnlineBackup</td>\n",
       "      <td>No</td>\n",
       "    </tr>\n",
       "    <tr>\n",
       "      <td>43740</td>\n",
       "      <td>Cust1255</td>\n",
       "      <td>HasPhoneService</td>\n",
       "      <td>Yes</td>\n",
       "    </tr>\n",
       "    <tr>\n",
       "      <td>45015</td>\n",
       "      <td>Cust1255</td>\n",
       "      <td>MultipleLines</td>\n",
       "      <td>No</td>\n",
       "    </tr>\n",
       "    <tr>\n",
       "      <td>45697</td>\n",
       "      <td>Cust1255</td>\n",
       "      <td>DeviceProtection</td>\n",
       "      <td>No</td>\n",
       "    </tr>\n",
       "  </tbody>\n",
       "</table>\n",
       "</div>"
      ],
      "text/plain": [
       "      CustomerID            TypeOfService SeviceDetails\n",
       "11101   Cust1255           OnlineSecurity            No\n",
       "12988   Cust1255          StreamingMovies           Yes\n",
       "27062   Cust1255  InternetServiceCategory           Yes\n",
       "31521   Cust1255      StreamingTelevision           Yes\n",
       "32944   Cust1255         TechnicalSupport            No\n",
       "39891   Cust1255             OnlineBackup            No\n",
       "43740   Cust1255          HasPhoneService           Yes\n",
       "45015   Cust1255            MultipleLines            No\n",
       "45697   Cust1255         DeviceProtection            No"
      ]
     },
     "execution_count": 130,
     "metadata": {},
     "output_type": "execute_result"
    }
   ],
   "source": [
    "#viewing at the service opted by a single customer\n",
    "Train_ServicesOptedFor[Train_ServicesOptedFor.CustomerID == \"Cust1255\"]"
   ]
  },
  {
   "cell_type": "code",
   "execution_count": 131,
   "metadata": {
    "scrolled": true
   },
   "outputs": [
    {
     "data": {
      "text/html": [
       "<div>\n",
       "<style scoped>\n",
       "    .dataframe tbody tr th:only-of-type {\n",
       "        vertical-align: middle;\n",
       "    }\n",
       "\n",
       "    .dataframe tbody tr th {\n",
       "        vertical-align: top;\n",
       "    }\n",
       "\n",
       "    .dataframe thead th {\n",
       "        text-align: right;\n",
       "    }\n",
       "</style>\n",
       "<table border=\"1\" class=\"dataframe\">\n",
       "  <thead>\n",
       "    <tr style=\"text-align: right;\">\n",
       "      <th></th>\n",
       "      <th>CustomerID</th>\n",
       "      <th>TypeOfService_DeviceProtection</th>\n",
       "      <th>TypeOfService_HasPhoneService</th>\n",
       "      <th>TypeOfService_InternetServiceCategory</th>\n",
       "      <th>TypeOfService_StreamingMovies</th>\n",
       "      <th>TypeOfService_StreamingTelevision</th>\n",
       "      <th>TypeOfService_OnlineBackup</th>\n",
       "      <th>TypeOfService_OnlineSecurity</th>\n",
       "      <th>TypeOfService_MultipleLines</th>\n",
       "      <th>TypeOfService_TechnicalSupport</th>\n",
       "      <th>...</th>\n",
       "      <th>Education</th>\n",
       "      <th>Gender</th>\n",
       "      <th>BaseCharges</th>\n",
       "      <th>DOC</th>\n",
       "      <th>TotalCharges</th>\n",
       "      <th>DOE</th>\n",
       "      <th>ElectronicBilling</th>\n",
       "      <th>ContractType</th>\n",
       "      <th>PaymentMethod</th>\n",
       "      <th>Churn</th>\n",
       "    </tr>\n",
       "  </thead>\n",
       "  <tbody>\n",
       "    <tr>\n",
       "      <td>0</td>\n",
       "      <td>Cust1201</td>\n",
       "      <td>1</td>\n",
       "      <td>1</td>\n",
       "      <td>1</td>\n",
       "      <td>1</td>\n",
       "      <td>1</td>\n",
       "      <td>0</td>\n",
       "      <td>0</td>\n",
       "      <td>0</td>\n",
       "      <td>0</td>\n",
       "      <td>...</td>\n",
       "      <td>Masters</td>\n",
       "      <td>Male</td>\n",
       "      <td>478.5</td>\n",
       "      <td>5-1-2012</td>\n",
       "      <td>5920</td>\n",
       "      <td>10-Jan-11</td>\n",
       "      <td>No</td>\n",
       "      <td>One year</td>\n",
       "      <td>Electronic check</td>\n",
       "      <td>No</td>\n",
       "    </tr>\n",
       "  </tbody>\n",
       "</table>\n",
       "<p>1 rows × 25 columns</p>\n",
       "</div>"
      ],
      "text/plain": [
       "  CustomerID  TypeOfService_DeviceProtection  TypeOfService_HasPhoneService  \\\n",
       "0   Cust1201                               1                              1   \n",
       "\n",
       "   TypeOfService_InternetServiceCategory  TypeOfService_StreamingMovies  \\\n",
       "0                                      1                              1   \n",
       "\n",
       "   TypeOfService_StreamingTelevision  TypeOfService_OnlineBackup  \\\n",
       "0                                  1                           0   \n",
       "\n",
       "   TypeOfService_OnlineSecurity  TypeOfService_MultipleLines  \\\n",
       "0                             0                            0   \n",
       "\n",
       "   TypeOfService_TechnicalSupport  ... Education Gender  BaseCharges  \\\n",
       "0                               0  ...   Masters   Male        478.5   \n",
       "\n",
       "        DOC  TotalCharges        DOE ElectronicBilling  ContractType  \\\n",
       "0  5-1-2012          5920  10-Jan-11                No      One year   \n",
       "\n",
       "      PaymentMethod Churn  \n",
       "0  Electronic check    No  \n",
       "\n",
       "[1 rows x 25 columns]"
      ]
     },
     "execution_count": 131,
     "metadata": {},
     "output_type": "execute_result"
    }
   ],
   "source": [
    "pp = ff.groupby('CustomerID')['SeviceDetails'].apply(lambda x: pd.DataFrame(x.values)).unstack().reset_index()\n",
    "pp.columns = pp.columns.droplevel()\n",
    "pp.columns = ['CustomerID','TypeOfService_DeviceProtection', 'TypeOfService_HasPhoneService', \n",
    "              'TypeOfService_InternetServiceCategory','TypeOfService_StreamingMovies','TypeOfService_StreamingTelevision',\n",
    "              'TypeOfService_OnlineBackup','TypeOfService_OnlineSecurity',\n",
    "             'TypeOfService_MultipleLines',\n",
    "              'TypeOfService_TechnicalSupport']\n",
    "pp = pp.replace({'Yes': 1, None: 0})\n",
    "train_account_demo = pd.merge(pp,train_account_demo, on=\"CustomerID\",how='inner')\n",
    "train_account_demo.head(1) #we have dummified dataset with 1 in the service customer subscribed"
   ]
  },
  {
   "cell_type": "markdown",
   "metadata": {},
   "source": [
    "## Visualization"
   ]
  },
  {
   "cell_type": "markdown",
   "metadata": {},
   "source": [
    "### <font color='green'> **__The below plot revelas that the highest education level of the customers is High school__**</font>"
   ]
  },
  {
   "cell_type": "code",
   "execution_count": 132,
   "metadata": {
    "scrolled": false
   },
   "outputs": [
    {
     "data": {
      "text/plain": [
       "(array([0, 1, 2, 3, 4]), <a list of 5 Text xticklabel objects>)"
      ]
     },
     "execution_count": 132,
     "metadata": {},
     "output_type": "execute_result"
    },
    {
     "data": {
      "image/png": "[encoded data removed]",
      "text/plain": [
       "<Figure size 576x432 with 1 Axes>"
      ]
     },
     "metadata": {
      "needs_background": "light"
     },
     "output_type": "display_data"
    }
   ],
   "source": [
    "#distribution of education\n",
    "fig, ax = plt.subplots(figsize=(8,6)) \n",
    "sns.countplot(x=\"Education\", data=train_account_demo)\n",
    "plt.title(\"The count of various Education levels of customer\")\n",
    "plt.xticks(rotation=30)"
   ]
  },
  {
   "cell_type": "markdown",
   "metadata": {},
   "source": [
    "### <font color='green'> **__Also the most selling category of subscription is Monthly contract__**</font>"
   ]
  },
  {
   "cell_type": "code",
   "execution_count": 133,
   "metadata": {},
   "outputs": [
    {
     "data": {
      "text/plain": [
       "Text(0.5, 1.0, 'The type of Contract')"
      ]
     },
     "execution_count": 133,
     "metadata": {},
     "output_type": "execute_result"
    },
    {
     "data": {
      "image/png": "[encoded data removed]",
      "text/plain": [
       "<Figure size 648x504 with 1 Axes>"
      ]
     },
     "metadata": {
      "needs_background": "light"
     },
     "output_type": "display_data"
    }
   ],
   "source": [
    "fig, ax = plt.subplots(figsize=(9,7)) \n",
    "sns.countplot(x=\"ContractType\", data=train_account_demo)\n",
    "plt.title(\"The type of Contract\")"
   ]
  },
  {
   "cell_type": "markdown",
   "metadata": {},
   "source": [
    "### <font color='green'> The churn analysis of different education level shows that the Masters level people has the least churn rate </font>"
   ]
  },
  {
   "cell_type": "code",
   "execution_count": 134,
   "metadata": {
    "scrolled": false
   },
   "outputs": [
    {
     "data": {
      "text/plain": [
       "(array([0, 1, 2, 3, 4]), <a list of 5 Text xticklabel objects>)"
      ]
     },
     "execution_count": 134,
     "metadata": {},
     "output_type": "execute_result"
    },
    {
     "data": {
      "image/png": "[encoded data removed]",
      "text/plain": [
       "<Figure size 576x432 with 1 Axes>"
      ]
     },
     "metadata": {
      "needs_background": "light"
     },
     "output_type": "display_data"
    }
   ],
   "source": [
    "train_account_demo_group = train_account_demo.groupby(['Education','Churn']).size()\n",
    "train_account_demo_group_stack = train_account_demo_group.unstack(1).fillna('0')\n",
    "train_account_demo_group_stack.plot(kind='bar',label='Education',figsize=(8,6),\n",
    "                                   title='Qualification and Churn',grid=True,legend='True',\n",
    "                                   fontsize=12, rot='horizontal')\n",
    "plt.xticks(rotation=30)"
   ]
  },
  {
   "cell_type": "markdown",
   "metadata": {},
   "source": [
    "### <font color='green'> This is an interesting plot. The churn rate is more with retired customers</font>"
   ]
  },
  {
   "cell_type": "code",
   "execution_count": 135,
   "metadata": {
    "scrolled": false
   },
   "outputs": [
    {
     "data": {
      "text/plain": [
       "<matplotlib.axes._subplots.AxesSubplot at 0x137985f3c18>"
      ]
     },
     "execution_count": 135,
     "metadata": {},
     "output_type": "execute_result"
    },
    {
     "data": {
      "image/png": "[encoded data removed]",
      "text/plain": [
       "<Figure size 576x432 with 1 Axes>"
      ]
     },
     "metadata": {
      "needs_background": "light"
     },
     "output_type": "display_data"
    }
   ],
   "source": [
    "train_account_demo_group = train_account_demo.groupby(['Retired','Churn']).size()\n",
    "train_account_demo_group_stack = train_account_demo_group.unstack(1).fillna('0')\n",
    "train_account_demo_group_stack.plot(kind='bar',label='Education',figsize=(8,6),\n",
    "                                   title='Retirement and Churn',grid=True,legend='True',\n",
    "                                   fontsize=12, rot='horizontal')"
   ]
  },
  {
   "cell_type": "markdown",
   "metadata": {},
   "source": [
    "### <font color='green'> Formatting data for training Machine learning models</font>"
   ]
  },
  {
   "cell_type": "code",
   "execution_count": 136,
   "metadata": {
    "scrolled": true
   },
   "outputs": [
    {
     "name": "stdout",
     "output_type": "stream",
     "text": [
      "(1324, 25)\n",
      "(3974, 25)\n",
      "(2648, 25)\n"
     ]
    }
   ],
   "source": [
    "#lets do downsampling as the data is highly imbalanced\n",
    "yes_train = train_account_demo[train_account_demo.Churn == \"Yes\"]\n",
    "yes_train.reset_index(inplace=True,drop=True)\n",
    "no_train = train_account_demo[train_account_demo.Churn == \"No\"]\n",
    "no_train.reset_index(inplace=True,drop=True)\n",
    "print(yes_train.shape)\n",
    "print(no_train.shape)\n",
    "no_train_1324 = no_train.sample(1324)\n",
    "train_final = yes_train.append(no_train_1324)\n",
    "print((train_final.shape))"
   ]
  },
  {
   "cell_type": "markdown",
   "metadata": {},
   "source": [
    "## Missing Value Imputation"
   ]
  },
  {
   "cell_type": "code",
   "execution_count": 137,
   "metadata": {
    "scrolled": false
   },
   "outputs": [
    {
     "data": {
      "text/plain": [
       "CustomerID                               0\n",
       "TypeOfService_DeviceProtection           0\n",
       "TypeOfService_HasPhoneService            0\n",
       "TypeOfService_InternetServiceCategory    0\n",
       "TypeOfService_StreamingMovies            0\n",
       "TypeOfService_StreamingTelevision        0\n",
       "TypeOfService_OnlineBackup               0\n",
       "TypeOfService_OnlineSecurity             0\n",
       "TypeOfService_MultipleLines              0\n",
       "TypeOfService_TechnicalSupport           0\n",
       "Country                                  0\n",
       "State                                    0\n",
       "Retired                                  0\n",
       "HasPartner                               0\n",
       "HasDependents                            0\n",
       "Education                                5\n",
       "Gender                                   2\n",
       "BaseCharges                              0\n",
       "DOC                                      0\n",
       "TotalCharges                             3\n",
       "DOE                                      0\n",
       "ElectronicBilling                        0\n",
       "ContractType                             3\n",
       "PaymentMethod                            0\n",
       "Churn                                    0\n",
       "dtype: int64"
      ]
     },
     "execution_count": 137,
     "metadata": {},
     "output_type": "execute_result"
    }
   ],
   "source": [
    "#Number of missng values in each clumn\n",
    "train_final.isnull().sum()"
   ]
  },
  {
   "cell_type": "code",
   "execution_count": 138,
   "metadata": {},
   "outputs": [],
   "source": [
    "#now lets do missing value analysis\n",
    "train_final[train_final.Country == \"?\"]\n",
    "#there are only two records which have country as ?\n",
    "#it is evident from state that the country is INDIA\n",
    "train_final.Country[train_final.Country == \"?\"] = \"India\""
   ]
  },
  {
   "cell_type": "code",
   "execution_count": 139,
   "metadata": {},
   "outputs": [
    {
     "name": "stdout",
     "output_type": "stream",
     "text": [
      "Maharashtra    2645\n",
      "?                 3\n",
      "Name: State, dtype: int64\n"
     ]
    },
    {
     "data": {
      "text/html": [
       "<div>\n",
       "<style scoped>\n",
       "    .dataframe tbody tr th:only-of-type {\n",
       "        vertical-align: middle;\n",
       "    }\n",
       "\n",
       "    .dataframe tbody tr th {\n",
       "        vertical-align: top;\n",
       "    }\n",
       "\n",
       "    .dataframe thead th {\n",
       "        text-align: right;\n",
       "    }\n",
       "</style>\n",
       "<table border=\"1\" class=\"dataframe\">\n",
       "  <thead>\n",
       "    <tr style=\"text-align: right;\">\n",
       "      <th></th>\n",
       "      <th>CustomerID</th>\n",
       "      <th>TypeOfService_DeviceProtection</th>\n",
       "      <th>TypeOfService_HasPhoneService</th>\n",
       "      <th>TypeOfService_InternetServiceCategory</th>\n",
       "      <th>TypeOfService_StreamingMovies</th>\n",
       "      <th>TypeOfService_StreamingTelevision</th>\n",
       "      <th>TypeOfService_OnlineBackup</th>\n",
       "      <th>TypeOfService_OnlineSecurity</th>\n",
       "      <th>TypeOfService_MultipleLines</th>\n",
       "      <th>TypeOfService_TechnicalSupport</th>\n",
       "      <th>...</th>\n",
       "      <th>Education</th>\n",
       "      <th>Gender</th>\n",
       "      <th>BaseCharges</th>\n",
       "      <th>DOC</th>\n",
       "      <th>TotalCharges</th>\n",
       "      <th>DOE</th>\n",
       "      <th>ElectronicBilling</th>\n",
       "      <th>ContractType</th>\n",
       "      <th>PaymentMethod</th>\n",
       "      <th>Churn</th>\n",
       "    </tr>\n",
       "  </thead>\n",
       "  <tbody>\n",
       "    <tr>\n",
       "      <td>664</td>\n",
       "      <td>Cust3825</td>\n",
       "      <td>1</td>\n",
       "      <td>1</td>\n",
       "      <td>1</td>\n",
       "      <td>1</td>\n",
       "      <td>1</td>\n",
       "      <td>1</td>\n",
       "      <td>0</td>\n",
       "      <td>0</td>\n",
       "      <td>0</td>\n",
       "      <td>...</td>\n",
       "      <td>Graduation</td>\n",
       "      <td>Female</td>\n",
       "      <td>501.25</td>\n",
       "      <td>5-1-2012</td>\n",
       "      <td>11938.75</td>\n",
       "      <td>16-Dec-09</td>\n",
       "      <td>Yes</td>\n",
       "      <td>Month-to-month</td>\n",
       "      <td>Electronic check</td>\n",
       "      <td>Yes</td>\n",
       "    </tr>\n",
       "    <tr>\n",
       "      <td>1268</td>\n",
       "      <td>Cust6152</td>\n",
       "      <td>1</td>\n",
       "      <td>1</td>\n",
       "      <td>1</td>\n",
       "      <td>1</td>\n",
       "      <td>0</td>\n",
       "      <td>0</td>\n",
       "      <td>0</td>\n",
       "      <td>0</td>\n",
       "      <td>0</td>\n",
       "      <td>...</td>\n",
       "      <td>Masters</td>\n",
       "      <td>Female</td>\n",
       "      <td>276.00</td>\n",
       "      <td>5-1-2012</td>\n",
       "      <td>2641.75</td>\n",
       "      <td>11-Mar-11</td>\n",
       "      <td>No</td>\n",
       "      <td>Month-to-month</td>\n",
       "      <td>Credit card (automatic)</td>\n",
       "      <td>Yes</td>\n",
       "    </tr>\n",
       "    <tr>\n",
       "      <td>1125</td>\n",
       "      <td>Cust2696</td>\n",
       "      <td>1</td>\n",
       "      <td>1</td>\n",
       "      <td>1</td>\n",
       "      <td>1</td>\n",
       "      <td>1</td>\n",
       "      <td>0</td>\n",
       "      <td>0</td>\n",
       "      <td>0</td>\n",
       "      <td>0</td>\n",
       "      <td>...</td>\n",
       "      <td>ProfessionalQalification</td>\n",
       "      <td>Male</td>\n",
       "      <td>477.50</td>\n",
       "      <td>5-1-2012</td>\n",
       "      <td>908.25</td>\n",
       "      <td>6-Nov-11</td>\n",
       "      <td>Yes</td>\n",
       "      <td>Month-to-month</td>\n",
       "      <td>Credit card (automatic)</td>\n",
       "      <td>No</td>\n",
       "    </tr>\n",
       "  </tbody>\n",
       "</table>\n",
       "<p>3 rows × 25 columns</p>\n",
       "</div>"
      ],
      "text/plain": [
       "     CustomerID  TypeOfService_DeviceProtection  \\\n",
       "664    Cust3825                               1   \n",
       "1268   Cust6152                               1   \n",
       "1125   Cust2696                               1   \n",
       "\n",
       "      TypeOfService_HasPhoneService  TypeOfService_InternetServiceCategory  \\\n",
       "664                               1                                      1   \n",
       "1268                              1                                      1   \n",
       "1125                              1                                      1   \n",
       "\n",
       "      TypeOfService_StreamingMovies  TypeOfService_StreamingTelevision  \\\n",
       "664                               1                                  1   \n",
       "1268                              1                                  0   \n",
       "1125                              1                                  1   \n",
       "\n",
       "      TypeOfService_OnlineBackup  TypeOfService_OnlineSecurity  \\\n",
       "664                            1                             0   \n",
       "1268                           0                             0   \n",
       "1125                           0                             0   \n",
       "\n",
       "      TypeOfService_MultipleLines  TypeOfService_TechnicalSupport  ...  \\\n",
       "664                             0                               0  ...   \n",
       "1268                            0                               0  ...   \n",
       "1125                            0                               0  ...   \n",
       "\n",
       "                     Education  Gender  BaseCharges       DOC  TotalCharges  \\\n",
       "664                 Graduation  Female       501.25  5-1-2012      11938.75   \n",
       "1268                   Masters  Female       276.00  5-1-2012       2641.75   \n",
       "1125  ProfessionalQalification    Male       477.50  5-1-2012        908.25   \n",
       "\n",
       "            DOE ElectronicBilling    ContractType            PaymentMethod  \\\n",
       "664   16-Dec-09               Yes  Month-to-month         Electronic check   \n",
       "1268  11-Mar-11                No  Month-to-month  Credit card (automatic)   \n",
       "1125   6-Nov-11               Yes  Month-to-month  Credit card (automatic)   \n",
       "\n",
       "     Churn  \n",
       "664    Yes  \n",
       "1268   Yes  \n",
       "1125    No  \n",
       "\n",
       "[3 rows x 25 columns]"
      ]
     },
     "execution_count": 139,
     "metadata": {},
     "output_type": "execute_result"
    }
   ],
   "source": [
    "#having look at state values\n",
    "print(train_final.State.value_counts())\n",
    "train_final[train_final.State == \"?\"]"
   ]
  },
  {
   "cell_type": "code",
   "execution_count": 140,
   "metadata": {},
   "outputs": [],
   "source": [
    "#we can replace ? with maharastra as the whole data consists only maharashtra\n",
    "train_final.State[train_final.State == \"?\"] = \"Maharashtra\""
   ]
  },
  {
   "cell_type": "code",
   "execution_count": 141,
   "metadata": {},
   "outputs": [],
   "source": [
    "#as the NA values are less for other columns\n",
    "#replacing NA with mode for every column\n",
    "for column in train_final.columns:\n",
    "    train_final[column].fillna(train_final[column].mode()[0], inplace=True)"
   ]
  },
  {
   "cell_type": "code",
   "execution_count": 142,
   "metadata": {},
   "outputs": [],
   "source": [
    "#replacing the MISSINGVAL in totalcharges column with the minimum value of the column i.e 100\n",
    "#print(train_final.TotalCharges.min())\n",
    "train_final.TotalCharges[train_final.TotalCharges == \"MISSINGVAL\"] =100\n",
    "#train_final['TotalCharges'] = train_final['TotalCharges'].map({'MISSINGVAL': 100})"
   ]
  },
  {
   "cell_type": "markdown",
   "metadata": {},
   "source": [
    "# Data Pre-processing"
   ]
  },
  {
   "cell_type": "code",
   "execution_count": 143,
   "metadata": {
    "scrolled": true
   },
   "outputs": [],
   "source": [
    "#changing the dates to proper format at then creating a new attribute which will give the tenure of the customer\n",
    "train_final['DOC'] = pd.to_datetime(train_final['DOC'], format='%d-%m-%Y')\n",
    "\n",
    "train_final['DOE']=train_final.DOE.apply(\n",
    "    lambda x: pd.to_datetime(x).strftime('%d-%b-%Y'))\n",
    "\n",
    "train_final['DOE']=pd.to_datetime(train_final['DOE'], format='%d-%b-%Y')\n",
    "\n",
    "train_final['tenure'] = (train_final['DOC']-train_final['DOE']).dt.days"
   ]
  },
  {
   "cell_type": "code",
   "execution_count": 144,
   "metadata": {},
   "outputs": [],
   "source": [
    "#Now lets convert the dataframe columns into the respective format\n",
    "categoricalFeatureNames = [\"Country\",\"State\",\"Retired\",\"HasPartner\",\"HasDependents\",\"Education\", \"Gender\",\"ElectronicBilling\",\n",
    "                          \"ContractType\",\"PaymentMethod\"]\n",
    "\n",
    "numericalFeatureNames = [\"TotalCharges\",\"BaseCharges\",\"tenure\"]\n",
    "#these are the numerical attributes\n",
    "\n",
    "#convert the attributes listed above to categorical form\n",
    "for var in categoricalFeatureNames:\n",
    "    train_final[var] = train_final[var].astype(\"category\")\n",
    "    \n",
    "#convert the attributes listed above to categorical form\n",
    "for nar in numericalFeatureNames:\n",
    "    train_final[nar] = train_final[nar].astype(\"float64\")"
   ]
  },
  {
   "cell_type": "code",
   "execution_count": 145,
   "metadata": {},
   "outputs": [],
   "source": [
    "train_final['Churn'] = train_final['Churn'].map({'Yes': 1, 'No':0})\n",
    "y = train_final[['Churn']]\n",
    "\n",
    "train_final = pd.get_dummies(train_final, prefix=['Retired','HasPartner','HasDependents','Education','Gender','ElectronicBilling','ContractType','PaymentMethod'],\n",
    "               columns=['Retired','HasPartner','HasDependents','Education','Gender','ElectronicBilling','ContractType','PaymentMethod'])\n",
    "\n",
    "data_final = train_final.drop(['CustomerID','Country','State','DOC','DOE','Churn'], axis=1)"
   ]
  },
  {
   "cell_type": "markdown",
   "metadata": {},
   "source": [
    "## Test Data"
   ]
  },
  {
   "cell_type": "code",
   "execution_count": 146,
   "metadata": {},
   "outputs": [
    {
     "name": "stdout",
     "output_type": "stream",
     "text": [
      "(1986, 34)\n",
      "(662, 34)\n",
      "(1986, 1)\n",
      "(662, 1)\n"
     ]
    }
   ],
   "source": [
    "train = pd.read_csv(\"data/Test.csv\")\n",
    "Test_AccountInfo = pd.read_csv(\"data/Test_AccountInfo.csv\")\n",
    "Test_Demographics = pd.read_csv(\"data/Test_Demographics.csv\")\n",
    "Test_ServicesOptedFor = pd.read_csv(\"data/Test_ServicesOptedFor.csv\")\n",
    "#merging two dataframes with customerid attribute\n",
    "test_test_account= pd.merge(Test_AccountInfo,train,on=\"CustomerID\")\n",
    "#renaming a column to match\n",
    "Test_Demographics = Test_Demographics.rename(columns={ \"HouseholdID\" : \"CustomerID\"})\n",
    "#Train_Demographics['HouseholdID'] = \"CustomerID\"\n",
    "test_account_demo = pd.merge(Test_Demographics,test_test_account, on=\"CustomerID\")\n",
    "Test_ServicesOptedFor.SeviceDetails[Test_ServicesOptedFor.SeviceDetails == \"1\"] = \"Yes\"\n",
    "Test_ServicesOptedFor.SeviceDetails[Test_ServicesOptedFor.SeviceDetails == \"No internet service\"] = \"No\"\n",
    "Test_ServicesOptedFor.SeviceDetails[Test_ServicesOptedFor.SeviceDetails == \"0\"] = \"No\"\n",
    "Test_ServicesOptedFor.SeviceDetails[Test_ServicesOptedFor.SeviceDetails == \"Fiber optic\"] = \"Yes\"\n",
    "Test_ServicesOptedFor.SeviceDetails[Test_ServicesOptedFor.SeviceDetails == \"DSL\"] = \"Yes\"\n",
    "Test_ServicesOptedFor.SeviceDetails[Test_ServicesOptedFor.SeviceDetails == \"No phone service\"] = \"No\"\n",
    "yes_test_service = Test_ServicesOptedFor[Test_ServicesOptedFor.SeviceDetails != 'No']\n",
    "yes_test_service = yes_test_service.sort_values(by=['TypeOfService'], ascending=['True'])\n",
    "fff = pd.get_dummies(yes_test_service, prefix=['TypeOfService'],\n",
    "               columns=['TypeOfService'])\n",
    "xxx = fff.groupby('CustomerID')['SeviceDetails'].apply(lambda x: pd.DataFrame(x.values)).unstack().reset_index()\n",
    "xxx.columns = xxx.columns.droplevel()\n",
    "xxx.columns = ['CustomerID','TypeOfService_DeviceProtection', 'TypeOfService_HasPhoneService', \n",
    "              'TypeOfService_InternetServiceCategory','TypeOfService_StreamingMovies','TypeOfService_StreamingTelevision',\n",
    "              'TypeOfService_OnlineBackup','TypeOfService_OnlineSecurity',\n",
    "             'TypeOfService_MultipleLines',\n",
    "              'TypeOfService_TechnicalSupport']\n",
    "xxx = xxx.replace({'Yes': 1, None: 0})\n",
    "test_account_demo = pd.merge(xxx,test_account_demo, on=\"CustomerID\",how='inner')\n",
    "# test_account_demo.head(2)\n",
    "#as the NA values are less \n",
    "#replacing NA with mode for every column\n",
    "for column in test_account_demo.columns:\n",
    "    test_account_demo[column].fillna(test_account_demo[column].mode()[0], inplace=True)\n",
    "test_account_demo.Country[test_account_demo.Country == \"?\"] = \"India\"\n",
    "test_account_demo.TotalCharges[test_account_demo.TotalCharges == \"MISSINGVAL\"] = 100\n",
    "#changing the dates to proper format at then creating a new attribute which will give the tenure of the customer\n",
    "test_account_demo['DOC'] = pd.to_datetime(test_account_demo['DOC'], format='%d-%m-%Y')\n",
    "\n",
    "test_account_demo['DOE']=test_account_demo.DOE.apply(\n",
    "    lambda x: pd.to_datetime(x).strftime('%d-%b-%Y'))\n",
    "\n",
    "test_account_demo['DOE']=pd.to_datetime(test_account_demo['DOE'], format='%d-%b-%Y')\n",
    "\n",
    "test_account_demo['tenure'] = (test_account_demo['DOC']-test_account_demo['DOE']).dt.days\n",
    "#Now lets convert the dataframe columns into the respective format\n",
    "\n",
    "categoricalFeatureNames = [\"Country\",\"State\",\"Retired\",\"HasPartner\",\"HasDependents\",\"Education\", \"Gender\",\"ElectronicBilling\",\n",
    "                          \"ContractType\",\"PaymentMethod\"]\n",
    "\n",
    "#\"Retired\",\"HasPartner\",\"HasDependents\",\"Education\",\"Gender\",\"BaseCharges\",\"TotalCharges\",\n",
    "#                         \"ElectronicBilling\",\"ContractType\"\n",
    "\n",
    "\n",
    "numericalFeatureNames = [\"TotalCharges\",\"BaseCharges\",\"tenure\"]\n",
    "#these are the numerical attributes\n",
    "\n",
    "#convert the attributes listed above to categorical form\n",
    "for var in categoricalFeatureNames:\n",
    "    test_account_demo[var] = test_account_demo[var].astype(\"category\")\n",
    "    \n",
    "#convert the attributes listed above to categorical form\n",
    "for nar in numericalFeatureNames:\n",
    "    test_account_demo[nar] = test_account_demo[nar].astype(\"float64\")\n",
    "\n",
    "test_account_demo = pd.get_dummies(test_account_demo, prefix=['Retired','HasPartner','HasDependents','Education','Gender','ElectronicBilling','ContractType','PaymentMethod'],\n",
    "               columns=['Retired','HasPartner','HasDependents','Education','Gender','ElectronicBilling','ContractType','PaymentMethod'])\n",
    "\n",
    "test_final = test_account_demo.drop(['CustomerID','Country','State','DOC','DOE'], axis=1)\n",
    "test_final['PaymentMethod_Credit card (automatic)'] = 0\n",
    "\n",
    "from sklearn.model_selection import train_test_split\n",
    "X_train, X_test, y_train, y_test = train_test_split(data_final, y, random_state=1)\n",
    "print(X_train.shape)\n",
    "print(X_test.shape)\n",
    "print(y_train.shape)\n",
    "print(y_test.shape)"
   ]
  },
  {
   "cell_type": "markdown",
   "metadata": {},
   "source": [
    "## Logistic Regression"
   ]
  },
  {
   "cell_type": "code",
   "execution_count": 154,
   "metadata": {},
   "outputs": [],
   "source": [
    "# import and instantiate a logistic regression model\n",
    "from sklearn.linear_model import LogisticRegression\n",
    "seed=12\n",
    "logreg = LogisticRegression(C=1, random_state=12, class_weight='balanced')"
   ]
  },
  {
   "cell_type": "code",
   "execution_count": 155,
   "metadata": {
    "scrolled": true
   },
   "outputs": [
    {
     "data": {
      "text/plain": [
       "LogisticRegression(C=1, class_weight='balanced', dual=False, fit_intercept=True,\n",
       "                   intercept_scaling=1, l1_ratio=None, max_iter=100,\n",
       "                   multi_class='warn', n_jobs=None, penalty='l2',\n",
       "                   random_state=12, solver='warn', tol=0.0001, verbose=0,\n",
       "                   warm_start=False)"
      ]
     },
     "execution_count": 155,
     "metadata": {},
     "output_type": "execute_result"
    }
   ],
   "source": [
    "logreg.fit(X_train, y_train)"
   ]
  },
  {
   "cell_type": "code",
   "execution_count": 156,
   "metadata": {
    "scrolled": true
   },
   "outputs": [
    {
     "data": {
      "image/png": "[encoded data removed]",
      "text/plain": [
       "<Figure size 432x288 with 1 Axes>"
      ]
     },
     "metadata": {
      "needs_background": "light"
     },
     "output_type": "display_data"
    }
   ],
   "source": [
    "from sklearn.metrics import roc_auc_score\n",
    "from sklearn.metrics import roc_curve\n",
    "logit_roc_auc = roc_auc_score(y_test, logreg.predict(X_test))\n",
    "fpr, tpr, thresholds = roc_curve(y, logreg.predict_proba(data_final)[:,1])\n",
    "plt.figure()\n",
    "plt.plot(fpr, tpr, label='Logistic Regression (area = %0.2f)' % logit_roc_auc)\n",
    "plt.plot([0, 1], [0, 1],'r--')\n",
    "plt.xlim([0.0, 1.0])\n",
    "plt.ylim([0.0, 1.05])\n",
    "plt.xlabel('False Positive Rate')\n",
    "plt.ylabel('True Positive Rate')\n",
    "plt.title('Receiver operating characteristic')\n",
    "plt.legend(loc=\"lower right\")\n",
    "plt.savefig('Log_ROC')\n",
    "plt.show()"
   ]
  },
  {
   "cell_type": "markdown",
   "metadata": {},
   "source": [
    "#### with 0.5 probability the accuracy is 75% and recall is  79%"
   ]
  },
  {
   "cell_type": "code",
   "execution_count": 160,
   "metadata": {
    "scrolled": true
   },
   "outputs": [
    {
     "name": "stdout",
     "output_type": "stream",
     "text": [
      "Test accuracy 0.7583081570996979\n",
      "              precision    recall  f1-score   support\n",
      "\n",
      "           0       0.74      0.82      0.77       336\n",
      "           1       0.79      0.70      0.74       326\n",
      "\n",
      "    accuracy                           0.76       662\n",
      "   macro avg       0.76      0.76      0.76       662\n",
      "weighted avg       0.76      0.76      0.76       662\n",
      "\n"
     ]
    }
   ],
   "source": [
    "y_log_pred_train = logreg.predict(X_train)\n",
    "ii = logreg.predict_proba(X_test)\n",
    "probs_log = ii[:,1]  #taking a column\n",
    "probs_log[probs_log > 0.6] =1  #setting thresholds\n",
    "probs_log[probs_log <= 0.60] = 0\n",
    "y_log_pred_test = logreg.predict(X_test)\n",
    "print(\"Test accuracy\", metrics.accuracy_score(y_test, probs_log))\n",
    "print(classification_report(y_test, probs_log))\n"
   ]
  },
  {
   "cell_type": "code",
   "execution_count": 161,
   "metadata": {
    "scrolled": true
   },
   "outputs": [
    {
     "name": "stdout",
     "output_type": "stream",
     "text": [
      "Train Accuracy 0.7668680765357503\n",
      "              precision    recall  f1-score   support\n",
      "\n",
      "           0       0.79      0.73      0.76       988\n",
      "           1       0.75      0.81      0.78       998\n",
      "\n",
      "    accuracy                           0.77      1986\n",
      "   macro avg       0.77      0.77      0.77      1986\n",
      "weighted avg       0.77      0.77      0.77      1986\n",
      "\n"
     ]
    }
   ],
   "source": [
    "y_log_pred_train = logreg.predict(X_train)\n",
    "print(\"Train Accuracy\",metrics.accuracy_score(y_train, y_log_pred_train))\n",
    "print(classification_report(y_train, y_log_pred_train))"
   ]
  },
  {
   "cell_type": "markdown",
   "metadata": {},
   "source": [
    "#### Conclusion: The train and test accruacy show that the model has generalized well. Although this is a simple model it proved significant high accuracy. Lets move towards more complex algorithms like random forest"
   ]
  },
  {
   "cell_type": "code",
   "execution_count": null,
   "metadata": {},
   "outputs": [],
   "source": []
  },
  {
   "cell_type": "markdown",
   "metadata": {},
   "source": [
    "## Random Forest"
   ]
  },
  {
   "cell_type": "code",
   "execution_count": 152,
   "metadata": {
    "scrolled": true
   },
   "outputs": [
    {
     "data": {
      "text/plain": [
       "RandomForestClassifier(bootstrap=True, class_weight=None, criterion='gini',\n",
       "                       max_depth=None, max_features='auto', max_leaf_nodes=None,\n",
       "                       min_impurity_decrease=0.0, min_impurity_split=None,\n",
       "                       min_samples_leaf=1, min_samples_split=2,\n",
       "                       min_weight_fraction_leaf=0.0, n_estimators=2,\n",
       "                       n_jobs=None, oob_score=False, random_state=None,\n",
       "                       verbose=0, warm_start=False)"
      ]
     },
     "execution_count": 152,
     "metadata": {},
     "output_type": "execute_result"
    }
   ],
   "source": [
    "#initializing reandom forest\n",
    "from sklearn.ensemble import RandomForestClassifier\n",
    "from sklearn.metrics import classification_report\n",
    "from sklearn.metrics import confusion_matrix\n",
    "RF_clf = RandomForestClassifier(n_estimators=2)\n",
    "RF_clf.fit(X_train, y_train)"
   ]
  },
  {
   "cell_type": "code",
   "execution_count": 153,
   "metadata": {},
   "outputs": [
    {
     "name": "stdout",
     "output_type": "stream",
     "text": [
      "              precision    recall  f1-score   support\n",
      "\n",
      "           0       0.64      0.80      0.71       336\n",
      "           1       0.72      0.53      0.61       326\n",
      "\n",
      "    accuracy                           0.67       662\n",
      "   macro avg       0.68      0.67      0.66       662\n",
      "weighted avg       0.68      0.67      0.66       662\n",
      "\n",
      "              precision    recall  f1-score   support\n",
      "\n",
      "           0       0.82      0.96      0.89       988\n",
      "           1       0.96      0.80      0.87       998\n",
      "\n",
      "    accuracy                           0.88      1986\n",
      "   macro avg       0.89      0.88      0.88      1986\n",
      "weighted avg       0.89      0.88      0.88      1986\n",
      "\n"
     ]
    }
   ],
   "source": [
    "#predicting on train and test data\n",
    "#RF_clf.fit(X_train_dtm, y_train)\n",
    "y_rf_pred_test = RF_clf.predict(X_test)\n",
    "y_rf_pred_train = RF_clf.predict(X_train)\n",
    "\n",
    "print(classification_report(y_test, y_rf_pred_test))\n",
    "print(classification_report(y_train, y_rf_pred_train))"
   ]
  },
  {
   "cell_type": "code",
   "execution_count": null,
   "metadata": {},
   "outputs": [],
   "source": []
  },
  {
   "cell_type": "code",
   "execution_count": 104,
   "metadata": {
    "scrolled": false
   },
   "outputs": [
    {
     "data": {
      "text/plain": [
       "<matplotlib.axes._subplots.AxesSubplot at 0x137982c3a20>"
      ]
     },
     "execution_count": 104,
     "metadata": {},
     "output_type": "execute_result"
    },
    {
     "data": {
      "image/png": "[encoded data removed]",
      "text/plain": [
       "<Figure size 432x288 with 2 Axes>"
      ]
     },
     "metadata": {},
     "output_type": "display_data"
    }
   ],
   "source": [
    "cm = metrics.confusion_matrix(y_test, y_rf_pred_test)\n",
    "sns.set(font_scale=1.4)#for label size\n",
    "sns.heatmap(cm,annot=True,annot_kws={\"size\": 12})# font size"
   ]
  },
  {
   "cell_type": "code",
   "execution_count": null,
   "metadata": {},
   "outputs": [],
   "source": []
  },
  {
   "cell_type": "code",
   "execution_count": 105,
   "metadata": {
    "scrolled": true
   },
   "outputs": [],
   "source": [
    "probs_rf = RF_clf.predict_proba(test_final)\n",
    "probs = probs_rf[:,1]  #taking a column\n",
    "probs[probs > 0.25] =1  #setting thresholds\n",
    "probs[probs <= 0.25] = 0\n",
    "submission = test_account_demo[[\"CustomerID\"]]\n",
    "submission['Churn'] = probs\n",
    "submission['Churn'] = submission['Churn'].map({1:\"Yes\",0:\"No\"})\n",
    "#train_final['Churn'] = train_final['Churn'].map({'Yes': 1, 'No':0})\n",
    "submission.to_csv(\"predictions.csv\",index=False)"
   ]
  },
  {
   "cell_type": "code",
   "execution_count": 106,
   "metadata": {
    "scrolled": true
   },
   "outputs": [
    {
     "name": "stdout",
     "output_type": "stream",
     "text": [
      "0.7356495468277946\n",
      "              precision    recall  f1-score   support\n",
      "\n",
      "           0       0.70      0.82      0.76       336\n",
      "           1       0.78      0.64      0.71       326\n",
      "\n",
      "    accuracy                           0.74       662\n",
      "   macro avg       0.74      0.73      0.73       662\n",
      "weighted avg       0.74      0.74      0.73       662\n",
      "\n"
     ]
    }
   ],
   "source": [
    "y_rf_pred_train = RF_clf.predict(X_train)\n",
    "jj = RF_clf.predict_proba(X_test)\n",
    "probs_rf = jj[:,1]  #taking a column\n",
    "probs_rf[probs_rf > 0.60] =1  #setting thresholds\n",
    "probs_rf[probs_rf <= 0.60] = 0\n",
    "y_rf_pred_test = RF_clf.predict(X_test)\n",
    "print(metrics.accuracy_score(y_test, probs_rf))\n",
    "print(classification_report(y_test, probs_rf))"
   ]
  }
 ],
 "metadata": {
  "kernelspec": {
   "display_name": "Python 3",
   "language": "python",
   "name": "python3"
  },
  "language_info": {
   "codemirror_mode": {
    "name": "ipython",
    "version": 3
   },
   "file_extension": ".py",
   "mimetype": "text/x-python",
   "name": "python",
   "nbconvert_exporter": "python",
   "pygments_lexer": "ipython3",
   "version": "3.7.6"
  }
 },
 "nbformat": 4,
 "nbformat_minor": 2
}
